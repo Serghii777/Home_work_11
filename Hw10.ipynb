{
  "cells": [
    {
      "cell_type": "markdown",
      "metadata": {
        "id": "view-in-github",
        "colab_type": "text"
      },
      "source": [
        "<a href=\"https://colab.research.google.com/github/Serghii777/Home_work_11/blob/main/Hw10.ipynb\" target=\"_parent\"><img src=\"https://colab.research.google.com/assets/colab-badge.svg\" alt=\"Open In Colab\"/></a>"
      ]
    },
    {
      "cell_type": "code",
      "execution_count": 4,
      "metadata": {
        "id": "BB6gyVy0tauC"
      },
      "outputs": [],
      "source": [
        "import tensorflow as tf\n",
        "from tensorflow import keras\n",
        "from keras.datasets import fashion_mnist\n",
        "from keras.utils import to_categorical\n",
        "from keras import layers, models\n",
        "from keras.callbacks import EarlyStopping, ReduceLROnPlateau"
      ]
    },
    {
      "cell_type": "code",
      "execution_count": 2,
      "metadata": {
        "id": "g_8LHWbkt2U_",
        "colab": {
          "base_uri": "https://localhost:8080/"
        },
        "outputId": "b5aa878d-1aef-49a2-fa43-02cb6d3ea414"
      },
      "outputs": [
        {
          "output_type": "stream",
          "name": "stdout",
          "text": [
            "Downloading data from https://storage.googleapis.com/tensorflow/tf-keras-datasets/train-labels-idx1-ubyte.gz\n",
            "29515/29515 [==============================] - 0s 0us/step\n",
            "Downloading data from https://storage.googleapis.com/tensorflow/tf-keras-datasets/train-images-idx3-ubyte.gz\n",
            "26421880/26421880 [==============================] - 0s 0us/step\n",
            "Downloading data from https://storage.googleapis.com/tensorflow/tf-keras-datasets/t10k-labels-idx1-ubyte.gz\n",
            "5148/5148 [==============================] - 0s 0us/step\n",
            "Downloading data from https://storage.googleapis.com/tensorflow/tf-keras-datasets/t10k-images-idx3-ubyte.gz\n",
            "4422102/4422102 [==============================] - 0s 0us/step\n"
          ]
        }
      ],
      "source": [
        "(train_data, train_labels), (test_data, test_labels) = fashion_mnist.load_data()\n",
        "\n",
        "train_data = train_data.reshape(-1, 28, 28, 1).astype('float32') / 255\n",
        "test_data = test_data.reshape(-1, 28, 28, 1).astype('float32') / 255\n",
        "\n",
        "train_labels = to_categorical(train_labels, 10)\n",
        "test_labels = to_categorical(test_labels, 10)"
      ]
    },
    {
      "cell_type": "code",
      "execution_count": 5,
      "metadata": {
        "colab": {
          "base_uri": "https://localhost:8080/"
        },
        "id": "Btq934aUt_MG",
        "outputId": "a4c1914a-dfcb-41a8-bbc7-5f6e4309e370"
      },
      "outputs": [
        {
          "output_type": "stream",
          "name": "stdout",
          "text": [
            "Epoch 1/50\n",
            "469/469 [==============================] - 14s 13ms/step - loss: 0.5858 - accuracy: 0.7985 - val_loss: 1.0408 - val_accuracy: 0.6625 - lr: 0.0010\n",
            "Epoch 2/50\n",
            "469/469 [==============================] - 6s 12ms/step - loss: 0.3676 - accuracy: 0.8642 - val_loss: 0.3046 - val_accuracy: 0.8883 - lr: 0.0010\n",
            "Epoch 3/50\n",
            "469/469 [==============================] - 5s 10ms/step - loss: 0.3171 - accuracy: 0.8830 - val_loss: 0.2836 - val_accuracy: 0.8970 - lr: 0.0010\n",
            "Epoch 4/50\n",
            "469/469 [==============================] - 5s 11ms/step - loss: 0.2882 - accuracy: 0.8940 - val_loss: 0.2899 - val_accuracy: 0.8926 - lr: 0.0010\n",
            "Epoch 5/50\n",
            "469/469 [==============================] - 5s 10ms/step - loss: 0.2689 - accuracy: 0.9001 - val_loss: 0.2519 - val_accuracy: 0.9100 - lr: 0.0010\n",
            "Epoch 6/50\n",
            "469/469 [==============================] - 5s 11ms/step - loss: 0.2536 - accuracy: 0.9069 - val_loss: 0.2511 - val_accuracy: 0.9092 - lr: 0.0010\n",
            "Epoch 7/50\n",
            "469/469 [==============================] - 5s 10ms/step - loss: 0.2469 - accuracy: 0.9095 - val_loss: 0.2374 - val_accuracy: 0.9133 - lr: 0.0010\n",
            "Epoch 8/50\n",
            "469/469 [==============================] - 5s 11ms/step - loss: 0.2336 - accuracy: 0.9133 - val_loss: 0.2316 - val_accuracy: 0.9122 - lr: 0.0010\n",
            "Epoch 9/50\n",
            "469/469 [==============================] - 5s 11ms/step - loss: 0.2293 - accuracy: 0.9157 - val_loss: 0.2365 - val_accuracy: 0.9130 - lr: 0.0010\n",
            "Epoch 10/50\n",
            "469/469 [==============================] - 5s 10ms/step - loss: 0.2199 - accuracy: 0.9180 - val_loss: 0.2636 - val_accuracy: 0.9042 - lr: 0.0010\n",
            "Epoch 11/50\n",
            "469/469 [==============================] - 5s 12ms/step - loss: 0.2140 - accuracy: 0.9204 - val_loss: 0.2122 - val_accuracy: 0.9230 - lr: 0.0010\n",
            "Epoch 12/50\n",
            "469/469 [==============================] - 5s 10ms/step - loss: 0.2076 - accuracy: 0.9241 - val_loss: 0.2329 - val_accuracy: 0.9174 - lr: 0.0010\n",
            "Epoch 13/50\n",
            "469/469 [==============================] - 5s 10ms/step - loss: 0.2020 - accuracy: 0.9253 - val_loss: 0.2371 - val_accuracy: 0.9130 - lr: 0.0010\n",
            "Epoch 14/50\n",
            "469/469 [==============================] - 5s 11ms/step - loss: 0.1968 - accuracy: 0.9267 - val_loss: 0.2216 - val_accuracy: 0.9199 - lr: 0.0010\n",
            "Epoch 15/50\n",
            "469/469 [==============================] - 5s 10ms/step - loss: 0.1782 - accuracy: 0.9332 - val_loss: 0.1919 - val_accuracy: 0.9314 - lr: 5.0000e-04\n",
            "Epoch 16/50\n",
            "469/469 [==============================] - 5s 11ms/step - loss: 0.1735 - accuracy: 0.9349 - val_loss: 0.1954 - val_accuracy: 0.9308 - lr: 5.0000e-04\n",
            "Epoch 17/50\n",
            "469/469 [==============================] - 5s 11ms/step - loss: 0.1689 - accuracy: 0.9376 - val_loss: 0.1914 - val_accuracy: 0.9331 - lr: 5.0000e-04\n",
            "Epoch 18/50\n",
            "469/469 [==============================] - 5s 10ms/step - loss: 0.1650 - accuracy: 0.9383 - val_loss: 0.2024 - val_accuracy: 0.9296 - lr: 5.0000e-04\n",
            "Epoch 19/50\n",
            "469/469 [==============================] - 5s 11ms/step - loss: 0.1617 - accuracy: 0.9397 - val_loss: 0.2007 - val_accuracy: 0.9325 - lr: 5.0000e-04\n",
            "Epoch 20/50\n",
            "469/469 [==============================] - 5s 10ms/step - loss: 0.1576 - accuracy: 0.9408 - val_loss: 0.3019 - val_accuracy: 0.8989 - lr: 5.0000e-04\n",
            "Epoch 21/50\n",
            "469/469 [==============================] - 5s 10ms/step - loss: 0.1503 - accuracy: 0.9431 - val_loss: 0.1859 - val_accuracy: 0.9375 - lr: 2.5000e-04\n",
            "Epoch 22/50\n",
            "469/469 [==============================] - 5s 11ms/step - loss: 0.1459 - accuracy: 0.9453 - val_loss: 0.2023 - val_accuracy: 0.9317 - lr: 2.5000e-04\n",
            "Epoch 23/50\n",
            "469/469 [==============================] - 5s 10ms/step - loss: 0.1427 - accuracy: 0.9471 - val_loss: 0.1875 - val_accuracy: 0.9348 - lr: 2.5000e-04\n",
            "Epoch 24/50\n",
            "469/469 [==============================] - 5s 11ms/step - loss: 0.1395 - accuracy: 0.9479 - val_loss: 0.1880 - val_accuracy: 0.9349 - lr: 2.5000e-04\n",
            "Epoch 25/50\n",
            "469/469 [==============================] - 5s 10ms/step - loss: 0.1367 - accuracy: 0.9480 - val_loss: 0.1834 - val_accuracy: 0.9380 - lr: 1.2500e-04\n",
            "Epoch 26/50\n",
            "469/469 [==============================] - 5s 10ms/step - loss: 0.1327 - accuracy: 0.9505 - val_loss: 0.1823 - val_accuracy: 0.9386 - lr: 1.2500e-04\n",
            "Epoch 27/50\n",
            "469/469 [==============================] - 5s 11ms/step - loss: 0.1312 - accuracy: 0.9511 - val_loss: 0.1891 - val_accuracy: 0.9379 - lr: 1.2500e-04\n",
            "Epoch 28/50\n",
            "469/469 [==============================] - 5s 10ms/step - loss: 0.1300 - accuracy: 0.9513 - val_loss: 0.1887 - val_accuracy: 0.9364 - lr: 1.2500e-04\n",
            "Epoch 29/50\n",
            "469/469 [==============================] - 5s 10ms/step - loss: 0.1305 - accuracy: 0.9506 - val_loss: 0.1860 - val_accuracy: 0.9373 - lr: 1.2500e-04\n",
            "Epoch 30/50\n",
            "469/469 [==============================] - 5s 11ms/step - loss: 0.1278 - accuracy: 0.9522 - val_loss: 0.1833 - val_accuracy: 0.9382 - lr: 6.2500e-05\n",
            "Epoch 31/50\n",
            "469/469 [==============================] - 5s 10ms/step - loss: 0.1285 - accuracy: 0.9516 - val_loss: 0.1813 - val_accuracy: 0.9393 - lr: 6.2500e-05\n",
            "Epoch 32/50\n",
            "469/469 [==============================] - 5s 11ms/step - loss: 0.1270 - accuracy: 0.9522 - val_loss: 0.1832 - val_accuracy: 0.9399 - lr: 6.2500e-05\n",
            "Epoch 33/50\n",
            "469/469 [==============================] - 5s 10ms/step - loss: 0.1259 - accuracy: 0.9534 - val_loss: 0.1825 - val_accuracy: 0.9389 - lr: 6.2500e-05\n",
            "Epoch 34/50\n",
            "469/469 [==============================] - 5s 10ms/step - loss: 0.1261 - accuracy: 0.9523 - val_loss: 0.1820 - val_accuracy: 0.9404 - lr: 6.2500e-05\n",
            "Epoch 35/50\n",
            "469/469 [==============================] - 5s 11ms/step - loss: 0.1229 - accuracy: 0.9536 - val_loss: 0.1810 - val_accuracy: 0.9397 - lr: 3.1250e-05\n",
            "Epoch 36/50\n",
            "469/469 [==============================] - 5s 10ms/step - loss: 0.1227 - accuracy: 0.9540 - val_loss: 0.1828 - val_accuracy: 0.9397 - lr: 3.1250e-05\n",
            "Epoch 37/50\n",
            "469/469 [==============================] - 5s 11ms/step - loss: 0.1233 - accuracy: 0.9541 - val_loss: 0.1817 - val_accuracy: 0.9400 - lr: 3.1250e-05\n",
            "Epoch 38/50\n",
            "469/469 [==============================] - 5s 10ms/step - loss: 0.1238 - accuracy: 0.9533 - val_loss: 0.1825 - val_accuracy: 0.9407 - lr: 3.1250e-05\n",
            "Epoch 39/50\n",
            "469/469 [==============================] - 5s 10ms/step - loss: 0.1242 - accuracy: 0.9531 - val_loss: 0.1828 - val_accuracy: 0.9397 - lr: 1.5625e-05\n",
            "Epoch 40/50\n",
            "469/469 [==============================] - 5s 11ms/step - loss: 0.1197 - accuracy: 0.9550 - val_loss: 0.1818 - val_accuracy: 0.9402 - lr: 1.5625e-05\n",
            "Epoch 41/50\n",
            "469/469 [==============================] - 5s 10ms/step - loss: 0.1209 - accuracy: 0.9541 - val_loss: 0.1818 - val_accuracy: 0.9409 - lr: 1.5625e-05\n",
            "Epoch 42/50\n",
            "469/469 [==============================] - 5s 10ms/step - loss: 0.1204 - accuracy: 0.9546 - val_loss: 0.1821 - val_accuracy: 0.9408 - lr: 7.8125e-06\n",
            "Epoch 43/50\n",
            "469/469 [==============================] - 5s 11ms/step - loss: 0.1217 - accuracy: 0.9549 - val_loss: 0.1817 - val_accuracy: 0.9404 - lr: 7.8125e-06\n",
            "Epoch 44/50\n",
            "469/469 [==============================] - 5s 10ms/step - loss: 0.1173 - accuracy: 0.9560 - val_loss: 0.1824 - val_accuracy: 0.9399 - lr: 7.8125e-06\n",
            "Epoch 45/50\n",
            "469/469 [==============================] - 5s 11ms/step - loss: 0.1213 - accuracy: 0.9553 - val_loss: 0.1819 - val_accuracy: 0.9403 - lr: 3.9063e-06\n",
            "Epoch 46/50\n",
            "469/469 [==============================] - 5s 10ms/step - loss: 0.1215 - accuracy: 0.9546 - val_loss: 0.1818 - val_accuracy: 0.9403 - lr: 3.9063e-06\n",
            "Epoch 47/50\n",
            "469/469 [==============================] - 5s 10ms/step - loss: 0.1198 - accuracy: 0.9543 - val_loss: 0.1818 - val_accuracy: 0.9407 - lr: 3.9063e-06\n",
            "Epoch 48/50\n",
            "469/469 [==============================] - 5s 11ms/step - loss: 0.1198 - accuracy: 0.9546 - val_loss: 0.1818 - val_accuracy: 0.9405 - lr: 1.9531e-06\n",
            "Epoch 49/50\n",
            "469/469 [==============================] - 5s 10ms/step - loss: 0.1235 - accuracy: 0.9533 - val_loss: 0.1817 - val_accuracy: 0.9403 - lr: 1.9531e-06\n",
            "Epoch 50/50\n",
            "469/469 [==============================] - 5s 11ms/step - loss: 0.1204 - accuracy: 0.9544 - val_loss: 0.1816 - val_accuracy: 0.9409 - lr: 1.9531e-06\n"
          ]
        }
      ],
      "source": [
        "model = models.Sequential([\n",
        "    layers.Conv2D(32, (3, 3), padding=\"same\", activation=\"relu\", input_shape=(28, 28, 1)),\n",
        "    layers.BatchNormalization(),\n",
        "    layers.MaxPooling2D(pool_size=(2, 2)),\n",
        "    layers.Dropout(0.25),\n",
        "\n",
        "    layers.Conv2D(64, (3, 3), padding=\"same\", activation=\"relu\"),\n",
        "    layers.BatchNormalization(),\n",
        "    layers.MaxPooling2D(pool_size=(2, 2)),\n",
        "    layers.Dropout(0.25),\n",
        "\n",
        "    layers.Conv2D(128, (3, 3), padding=\"same\", activation=\"relu\"),\n",
        "    layers.BatchNormalization(),\n",
        "    layers.MaxPooling2D(pool_size=(2, 2)),\n",
        "    layers.Dropout(0.25),\n",
        "\n",
        "    layers.Flatten(),\n",
        "    layers.Dense(512, activation='relu'),\n",
        "    layers.BatchNormalization(),\n",
        "    layers.Dropout(0.5),\n",
        "    layers.Dense(10, activation='softmax')\n",
        "])\n",
        "\n",
        "\n",
        "model.compile(\n",
        "    optimizer='adam',\n",
        "    loss='categorical_crossentropy',\n",
        "    metrics=['accuracy']\n",
        ")\n",
        "\n",
        "\n",
        "early_stopping = EarlyStopping(monitor='val_loss', patience=15, restore_best_weights=True)\n",
        "reduce_lr = ReduceLROnPlateau(monitor='val_loss', factor=0.5, patience=3, min_lr=1e-6)\n",
        "\n",
        "\n",
        "history = model.fit(\n",
        "    train_data, train_labels,\n",
        "    batch_size=128,\n",
        "    epochs=50,\n",
        "    validation_data=(test_data, test_labels),\n",
        "    callbacks=[early_stopping, reduce_lr]\n",
        ")"
      ]
    },
    {
      "cell_type": "code",
      "execution_count": 6,
      "metadata": {
        "colab": {
          "base_uri": "https://localhost:8080/"
        },
        "id": "8VVX4aL5uEuV",
        "outputId": "cf8d7f2a-bd26-48a7-ae47-734658d06344"
      },
      "outputs": [
        {
          "output_type": "stream",
          "name": "stdout",
          "text": [
            "313/313 [==============================] - 2s 4ms/step - loss: 0.1810 - accuracy: 0.9397\n",
            "Точність на тестовому наборі: 93.97%\n"
          ]
        }
      ],
      "source": [
        "test_loss, test_accuracy = model.evaluate(test_data, test_labels)\n",
        "print(f'Точність на тестовому наборі: {test_accuracy * 100:.2f}%')"
      ]
    },
    {
      "cell_type": "code",
      "execution_count": 7,
      "metadata": {
        "colab": {
          "base_uri": "https://localhost:8080/",
          "height": 881
        },
        "id": "M0OQWz0suHyl",
        "outputId": "8f877016-c4ee-4faf-dc81-9b7111ca458b"
      },
      "outputs": [
        {
          "output_type": "display_data",
          "data": {
            "text/plain": [
              "<Figure size 640x480 with 1 Axes>"
            ],
            "image/png": "[encoded data removed]"
          },
          "metadata": {}
        },
        {
          "output_type": "display_data",
          "data": {
            "text/plain": [
              "<Figure size 640x480 with 1 Axes>"
            ],
            "image/png": "[encoded data removed]"
          },
          "metadata": {}
        }
      ],
      "source": [
        "import matplotlib.pyplot as plt\n",
        "\n",
        "plt.plot(history.history['accuracy'], label='train accuracy')\n",
        "plt.plot(history.history['val_accuracy'], label='val accuracy')\n",
        "plt.xlabel('Epoch')\n",
        "plt.ylabel('Accuracy')\n",
        "plt.legend()\n",
        "plt.show()\n",
        "\n",
        "plt.plot(history.history['loss'], label='train loss')\n",
        "plt.plot(history.history['val_loss'], label='val loss')\n",
        "plt.xlabel('Epoch')\n",
        "plt.ylabel('Loss')\n",
        "plt.legend()\n",
        "plt.show()"
      ]
    },
    {
      "cell_type": "markdown",
      "source": [
        "**Порівняння точності моделей**\n",
        "**Модель багатошарова нейронна мережа (MLP)**\n",
        "\n",
        "Validation Accuracy: 86.65%\n",
        "Best Validation Accuracy So Far: 90.12%\n",
        "Test Accuracy: 89.99%\n",
        "**Модель згорткова нейронна мережа (CNN)**\n",
        "\n",
        "Validation Accuracy: 94.09%\n",
        "Test Accuracy: 93.97%\n",
        "\n",
        "**Висновки**\n",
        "Згорткова нейронна мережа (CNN) показала значно вищу точність як на валідаційному, так і на тестовому наборах даних порівняно з багатошаровою нейронною мережею (MLP). Валідаційна точність CNN досягла 94.09%, тоді як у MLP — 90.12%. Тестова точність CNN становить 93.97%, тоді як у MLP — 89.99%.\n",
        "\n",
        "Для задач класифікації зображень, де просторові залежності є важливими, згорткові нейронні мережі (CNN) є більш підходящими та ефективними. Модель CNN, представлена у цьому порівнянні, продемонструвала значно кращі результати і є більш надійною для цієї задачі."
      ],
      "metadata": {
        "id": "PPFokE8OVFMC"
      }
    },
    {
      "cell_type": "code",
      "source": [
        "import tensorflow as tf\n",
        "from tensorflow.keras.datasets import fashion_mnist\n",
        "from tensorflow.keras.applications import VGG16\n",
        "from tensorflow.keras.models import Model\n",
        "from tensorflow.keras.layers import Dense, Flatten, Dropout, GlobalAveragePooling2D\n",
        "from tensorflow.keras.optimizers import Adam\n",
        "from tensorflow.keras.preprocessing.image import ImageDataGenerator\n",
        "from tensorflow.keras.callbacks import EarlyStopping, ReduceLROnPlateau"
      ],
      "metadata": {
        "id": "GYoaWaAiVp9R"
      },
      "execution_count": 7,
      "outputs": []
    },
    {
      "cell_type": "code",
      "source": [
        "(x_train, y_train), (x_test, y_test) = fashion_mnist.load_data()\n",
        "\n",
        "\n",
        "x_train = tf.image.resize_with_crop_or_pad(tf.expand_dims(x_train, axis=-1), 48, 48)\n",
        "x_test = tf.image.resize_with_crop_or_pad(tf.expand_dims(x_test, axis=-1), 48, 48)\n",
        "\n",
        "\n",
        "x_train = tf.cast(x_train, tf.float32) / 255.0\n",
        "x_test = tf.cast(x_test, tf.float32) / 255.0\n",
        "\n",
        "\n",
        "x_train = tf.image.grayscale_to_rgb(x_train)\n",
        "x_test = tf.image.grayscale_to_rgb(x_test)\n",
        "\n",
        "\n",
        "base_model = VGG16(weights='imagenet', include_top=False, input_shape=(48, 48, 3))\n",
        "\n",
        "\n",
        "for layer in base_model.layers[:-4]:\n",
        "    layer.trainable = False\n",
        "\n",
        "\n",
        "x = base_model.output\n",
        "x = GlobalAveragePooling2D()(x)\n",
        "x = Dense(512, activation='relu')(x)\n",
        "x = Dropout(0.5)(x)\n",
        "x = Dense(256, activation='relu')(x)\n",
        "x = Dropout(0.5)(x)\n",
        "output = Dense(10, activation='softmax')(x)"
      ],
      "metadata": {
        "id": "uH3ehNHPbGV0"
      },
      "execution_count": 8,
      "outputs": []
    },
    {
      "cell_type": "code",
      "source": [
        "model = Model(inputs=base_model.input, outputs=output)\n",
        "\n",
        "\n",
        "model.compile(optimizer=Adam(learning_rate=1e-4), loss='sparse_categorical_crossentropy', metrics=['accuracy'])\n",
        "\n",
        "\n",
        "datagen = ImageDataGenerator(\n",
        "    rotation_range=20,\n",
        "    width_shift_range=0.2,\n",
        "    height_shift_range=0.2,\n",
        "    horizontal_flip=True\n",
        ")\n",
        "\n",
        "datagen.fit(x_train)\n",
        "\n",
        "\n",
        "early_stopping = EarlyStopping(monitor='val_loss', patience=10, restore_best_weights=True)\n",
        "reduce_lr = ReduceLROnPlateau(monitor='val_loss', factor=0.2, patience=5, min_lr=1e-7)\n",
        "\n",
        "\n",
        "history = model.fit(datagen.flow(x_train, y_train, batch_size=32),\n",
        "                    validation_data=(x_test, y_test),\n",
        "                    epochs=50,\n",
        "                    callbacks=[early_stopping, reduce_lr])"
      ],
      "metadata": {
        "colab": {
          "base_uri": "https://localhost:8080/"
        },
        "id": "SBUz2nIPbReM",
        "outputId": "0d96a691-0661-40ba-a110-249148ae73d6"
      },
      "execution_count": 9,
      "outputs": [
        {
          "output_type": "stream",
          "name": "stdout",
          "text": [
            "Epoch 1/50\n",
            "1875/1875 [==============================] - 74s 38ms/step - loss: 0.6831 - accuracy: 0.7608 - val_loss: 0.4765 - val_accuracy: 0.8270 - lr: 1.0000e-04\n",
            "Epoch 2/50\n",
            "1875/1875 [==============================] - 74s 39ms/step - loss: 0.4525 - accuracy: 0.8405 - val_loss: 0.4176 - val_accuracy: 0.8400 - lr: 1.0000e-04\n",
            "Epoch 3/50\n",
            "1875/1875 [==============================] - 71s 38ms/step - loss: 0.4107 - accuracy: 0.8543 - val_loss: 0.4052 - val_accuracy: 0.8448 - lr: 1.0000e-04\n",
            "Epoch 4/50\n",
            "1875/1875 [==============================] - 72s 38ms/step - loss: 0.3840 - accuracy: 0.8636 - val_loss: 0.3482 - val_accuracy: 0.8731 - lr: 1.0000e-04\n",
            "Epoch 5/50\n",
            "1875/1875 [==============================] - 72s 39ms/step - loss: 0.3644 - accuracy: 0.8684 - val_loss: 0.3385 - val_accuracy: 0.8810 - lr: 1.0000e-04\n",
            "Epoch 6/50\n",
            "1875/1875 [==============================] - 72s 38ms/step - loss: 0.3429 - accuracy: 0.8760 - val_loss: 0.3247 - val_accuracy: 0.8851 - lr: 1.0000e-04\n",
            "Epoch 7/50\n",
            "1875/1875 [==============================] - 69s 37ms/step - loss: 0.3321 - accuracy: 0.8806 - val_loss: 0.3512 - val_accuracy: 0.8781 - lr: 1.0000e-04\n",
            "Epoch 8/50\n",
            "1875/1875 [==============================] - 72s 38ms/step - loss: 0.3217 - accuracy: 0.8839 - val_loss: 0.3096 - val_accuracy: 0.8878 - lr: 1.0000e-04\n",
            "Epoch 9/50\n",
            "1875/1875 [==============================] - 71s 38ms/step - loss: 0.3179 - accuracy: 0.8849 - val_loss: 0.3239 - val_accuracy: 0.8813 - lr: 1.0000e-04\n",
            "Epoch 10/50\n",
            "1875/1875 [==============================] - 69s 37ms/step - loss: 0.3091 - accuracy: 0.8875 - val_loss: 0.3046 - val_accuracy: 0.8900 - lr: 1.0000e-04\n",
            "Epoch 11/50\n",
            "1875/1875 [==============================] - 72s 38ms/step - loss: 0.3012 - accuracy: 0.8910 - val_loss: 0.3218 - val_accuracy: 0.8824 - lr: 1.0000e-04\n",
            "Epoch 12/50\n",
            "1875/1875 [==============================] - 69s 37ms/step - loss: 0.2953 - accuracy: 0.8933 - val_loss: 0.3006 - val_accuracy: 0.8874 - lr: 1.0000e-04\n",
            "Epoch 13/50\n",
            "1875/1875 [==============================] - 72s 38ms/step - loss: 0.2922 - accuracy: 0.8944 - val_loss: 0.3056 - val_accuracy: 0.8907 - lr: 1.0000e-04\n",
            "Epoch 14/50\n",
            "1875/1875 [==============================] - 72s 38ms/step - loss: 0.2857 - accuracy: 0.8962 - val_loss: 0.2999 - val_accuracy: 0.8922 - lr: 1.0000e-04\n",
            "Epoch 15/50\n",
            "1875/1875 [==============================] - 70s 37ms/step - loss: 0.2783 - accuracy: 0.8969 - val_loss: 0.3638 - val_accuracy: 0.8841 - lr: 1.0000e-04\n",
            "Epoch 16/50\n",
            "1875/1875 [==============================] - 69s 37ms/step - loss: 0.2752 - accuracy: 0.8982 - val_loss: 0.3018 - val_accuracy: 0.8928 - lr: 1.0000e-04\n",
            "Epoch 17/50\n",
            "1875/1875 [==============================] - 74s 40ms/step - loss: 0.2715 - accuracy: 0.9007 - val_loss: 0.2819 - val_accuracy: 0.8965 - lr: 1.0000e-04\n",
            "Epoch 18/50\n",
            "1875/1875 [==============================] - 69s 37ms/step - loss: 0.2657 - accuracy: 0.9029 - val_loss: 0.2855 - val_accuracy: 0.8981 - lr: 1.0000e-04\n",
            "Epoch 19/50\n",
            "1875/1875 [==============================] - 69s 37ms/step - loss: 0.2659 - accuracy: 0.9026 - val_loss: 0.3135 - val_accuracy: 0.8948 - lr: 1.0000e-04\n",
            "Epoch 20/50\n",
            "1875/1875 [==============================] - 70s 37ms/step - loss: 0.2582 - accuracy: 0.9043 - val_loss: 0.3138 - val_accuracy: 0.8896 - lr: 1.0000e-04\n",
            "Epoch 21/50\n",
            "1875/1875 [==============================] - 69s 37ms/step - loss: 0.2584 - accuracy: 0.9052 - val_loss: 0.2954 - val_accuracy: 0.8930 - lr: 1.0000e-04\n",
            "Epoch 22/50\n",
            "1875/1875 [==============================] - 71s 38ms/step - loss: 0.2531 - accuracy: 0.9063 - val_loss: 0.2960 - val_accuracy: 0.8968 - lr: 1.0000e-04\n",
            "Epoch 23/50\n",
            "1875/1875 [==============================] - 69s 37ms/step - loss: 0.2175 - accuracy: 0.9184 - val_loss: 0.2700 - val_accuracy: 0.9061 - lr: 2.0000e-05\n",
            "Epoch 24/50\n",
            "1875/1875 [==============================] - 70s 37ms/step - loss: 0.2093 - accuracy: 0.9215 - val_loss: 0.2762 - val_accuracy: 0.9027 - lr: 2.0000e-05\n",
            "Epoch 25/50\n",
            "1875/1875 [==============================] - 69s 37ms/step - loss: 0.2054 - accuracy: 0.9225 - val_loss: 0.2732 - val_accuracy: 0.9050 - lr: 2.0000e-05\n",
            "Epoch 26/50\n",
            "1875/1875 [==============================] - 71s 38ms/step - loss: 0.2027 - accuracy: 0.9243 - val_loss: 0.2773 - val_accuracy: 0.9027 - lr: 2.0000e-05\n",
            "Epoch 27/50\n",
            "1875/1875 [==============================] - 70s 37ms/step - loss: 0.1987 - accuracy: 0.9261 - val_loss: 0.2791 - val_accuracy: 0.9034 - lr: 2.0000e-05\n",
            "Epoch 28/50\n",
            "1875/1875 [==============================] - 69s 37ms/step - loss: 0.1946 - accuracy: 0.9266 - val_loss: 0.2729 - val_accuracy: 0.9058 - lr: 2.0000e-05\n",
            "Epoch 29/50\n",
            "1875/1875 [==============================] - 69s 37ms/step - loss: 0.1851 - accuracy: 0.9300 - val_loss: 0.2724 - val_accuracy: 0.9054 - lr: 4.0000e-06\n",
            "Epoch 30/50\n",
            "1875/1875 [==============================] - 71s 38ms/step - loss: 0.1848 - accuracy: 0.9293 - val_loss: 0.2742 - val_accuracy: 0.9048 - lr: 4.0000e-06\n",
            "Epoch 31/50\n",
            "1875/1875 [==============================] - 70s 37ms/step - loss: 0.1828 - accuracy: 0.9303 - val_loss: 0.2757 - val_accuracy: 0.9047 - lr: 4.0000e-06\n",
            "Epoch 32/50\n",
            "1875/1875 [==============================] - 70s 38ms/step - loss: 0.1826 - accuracy: 0.9309 - val_loss: 0.2757 - val_accuracy: 0.9050 - lr: 4.0000e-06\n",
            "Epoch 33/50\n",
            "1875/1875 [==============================] - 69s 37ms/step - loss: 0.1825 - accuracy: 0.9315 - val_loss: 0.2752 - val_accuracy: 0.9056 - lr: 4.0000e-06\n"
          ]
        }
      ]
    },
    {
      "cell_type": "code",
      "source": [
        "test_loss, test_accuracy = model.evaluate(x_test, y_test)\n",
        "print(f'Test accuracy: {test_accuracy:.4f}')"
      ],
      "metadata": {
        "colab": {
          "base_uri": "https://localhost:8080/"
        },
        "id": "6jfy_12TbfVc",
        "outputId": "a568b36a-e8ab-46f4-fdd3-3eefbe5dc4f6"
      },
      "execution_count": 10,
      "outputs": [
        {
          "output_type": "stream",
          "name": "stdout",
          "text": [
            "313/313 [==============================] - 4s 12ms/step - loss: 0.2700 - accuracy: 0.9061\n",
            "Test accuracy: 0.9061\n"
          ]
        }
      ]
    }
  ],
  "metadata": {
    "accelerator": "GPU",
    "colab": {
      "gpuType": "T4",
      "toc_visible": true,
      "provenance": [],
      "authorship_tag": "ABX9TyPUC5o/rhQa+YanN+WOgPgD",
      "include_colab_link": true
    },
    "kernelspec": {
      "display_name": "Python 3",
      "name": "python3"
    },
    "language_info": {
      "name": "python"
    }
  },
  "nbformat": 4,
  "nbformat_minor": 0
}