{
  "nbformat": 4,
  "nbformat_minor": 0,
  "metadata": {
    "colab": {
      "provenance": [],
      "gpuType": "T4",
      "authorship_tag": "ABX9TyNmT9b5sVn+VKIidr5WlK/8",
      "include_colab_link": true
    },
    "kernelspec": {
      "name": "python3",
      "display_name": "Python 3"
    },
    "language_info": {
      "name": "python"
    },
    "accelerator": "GPU"
  },
  "cells": [
    {
      "cell_type": "markdown",
      "metadata": {
        "id": "view-in-github",
        "colab_type": "text"
      },
      "source": [
        "<a href=\"https://colab.research.google.com/github/Serghii777/Home_work_11/blob/main/Hw11.ipynb\" target=\"_parent\"><img src=\"https://colab.research.google.com/assets/colab-badge.svg\" alt=\"Open In Colab\"/></a>"
      ]
    },
    {
      "cell_type": "code",
      "execution_count": 1,
      "metadata": {
        "id": "9bv1XSigOOiB"
      },
      "outputs": [],
      "source": [
        "import numpy as np\n",
        "from tensorflow.keras.models import Sequential\n",
        "from tensorflow.keras.layers import Embedding, SimpleRNN, Dense\n",
        "from keras.datasets import imdb\n",
        "from keras.preprocessing.sequence import pad_sequences"
      ]
    },
    {
      "cell_type": "code",
      "source": [
        "max_features = 1000\n",
        "maxlen = 500\n",
        "batch_size = 32"
      ],
      "metadata": {
        "id": "X2pS5B5zOcXw"
      },
      "execution_count": 2,
      "outputs": []
    },
    {
      "cell_type": "code",
      "source": [
        "(input_train, y_train), (input_test, y_test) = imdb.load_data(num_words=max_features)\n",
        "input_train = pad_sequences(input_train, maxlen=maxlen)\n",
        "input_test = pad_sequences(input_test, maxlen=maxlen)"
      ],
      "metadata": {
        "colab": {
          "base_uri": "https://localhost:8080/"
        },
        "id": "xIPIHMuxOddT",
        "outputId": "c161702b-5775-4a7a-99bc-674ff29fae30"
      },
      "execution_count": 3,
      "outputs": [
        {
          "output_type": "stream",
          "name": "stdout",
          "text": [
            "Downloading data from https://storage.googleapis.com/tensorflow/tf-keras-datasets/imdb.npz\n",
            "17464789/17464789 [==============================] - 2s 0us/step\n"
          ]
        }
      ]
    },
    {
      "cell_type": "code",
      "source": [
        "model = Sequential()\n",
        "model.add(Embedding(max_features, 32))\n",
        "model.add(SimpleRNN(32))\n",
        "model.add(Dense(1, activation='sigmoid'))\n",
        "model.compile(optimizer='rmsprop', loss='binary_crossentropy', metrics=['acc'])\n",
        "\n",
        "history = model.fit(input_train, y_train, epochs=5, batch_size=128, validation_split=0.3)"
      ],
      "metadata": {
        "colab": {
          "base_uri": "https://localhost:8080/"
        },
        "id": "LeGJqaCiOhCv",
        "outputId": "46be4e17-3d0b-4224-d088-00606f4ac5b2"
      },
      "execution_count": 4,
      "outputs": [
        {
          "output_type": "stream",
          "name": "stdout",
          "text": [
            "Epoch 1/5\n",
            "137/137 [==============================] - 67s 472ms/step - loss: 0.6036 - acc: 0.6690 - val_loss: 0.4930 - val_acc: 0.7801\n",
            "Epoch 2/5\n",
            "137/137 [==============================] - 60s 440ms/step - loss: 0.4574 - acc: 0.7965 - val_loss: 0.4566 - val_acc: 0.7953\n",
            "Epoch 3/5\n",
            "137/137 [==============================] - 59s 433ms/step - loss: 0.4072 - acc: 0.8271 - val_loss: 0.6463 - val_acc: 0.7305\n",
            "Epoch 4/5\n",
            "137/137 [==============================] - 59s 432ms/step - loss: 0.3805 - acc: 0.8406 - val_loss: 0.4103 - val_acc: 0.8141\n",
            "Epoch 5/5\n",
            "137/137 [==============================] - 60s 442ms/step - loss: 0.3686 - acc: 0.8458 - val_loss: 0.5658 - val_acc: 0.7352\n"
          ]
        }
      ]
    },
    {
      "cell_type": "code",
      "source": [
        "test_loss, test_acc = model.evaluate(input_test, y_test)\n",
        "print('Test Loss: {}'.format(test_loss))\n",
        "print('Test Accuracy: {}'.format(test_acc))"
      ],
      "metadata": {
        "colab": {
          "base_uri": "https://localhost:8080/"
        },
        "id": "wrolm5jWOk-9",
        "outputId": "55f78e3a-97f4-4cb6-cde1-015e6620efea"
      },
      "execution_count": 5,
      "outputs": [
        {
          "output_type": "stream",
          "name": "stdout",
          "text": [
            "782/782 [==============================] - 31s 40ms/step - loss: 0.5562 - acc: 0.7445\n",
            "Test Loss: 0.5562402606010437\n",
            "Test Accuracy: 0.7444800138473511\n"
          ]
        }
      ]
    },
    {
      "cell_type": "markdown",
      "source": [
        "LSTM"
      ],
      "metadata": {
        "id": "AzlsZuZTO-Zu"
      }
    },
    {
      "cell_type": "code",
      "source": [
        "from tensorflow.keras.layers import LSTM\n",
        "\n",
        "\n",
        "model = Sequential()\n",
        "model.add(Embedding(max_features, 32))\n",
        "model.add(LSTM(32))\n",
        "model.add(Dense(1, activation='sigmoid'))\n",
        "model.compile(optimizer='rmsprop', loss='binary_crossentropy', metrics=['acc'])\n",
        "\n",
        "\n",
        "history = model.fit(input_train, y_train, epochs=5, batch_size=128, validation_split=0.3)"
      ],
      "metadata": {
        "colab": {
          "base_uri": "https://localhost:8080/"
        },
        "id": "SRDoKVYtPBFX",
        "outputId": "216137ce-75d8-43b1-90e4-f937cab84093"
      },
      "execution_count": 6,
      "outputs": [
        {
          "output_type": "stream",
          "name": "stdout",
          "text": [
            "Epoch 1/5\n",
            "137/137 [==============================] - 7s 37ms/step - loss: 0.6347 - acc: 0.6333 - val_loss: 0.5021 - val_acc: 0.7741\n",
            "Epoch 2/5\n",
            "137/137 [==============================] - 4s 29ms/step - loss: 0.4403 - acc: 0.8070 - val_loss: 0.4216 - val_acc: 0.8144\n",
            "Epoch 3/5\n",
            "137/137 [==============================] - 3s 20ms/step - loss: 0.3834 - acc: 0.8375 - val_loss: 0.3743 - val_acc: 0.8419\n",
            "Epoch 4/5\n",
            "137/137 [==============================] - 3s 21ms/step - loss: 0.3528 - acc: 0.8522 - val_loss: 0.5416 - val_acc: 0.7935\n",
            "Epoch 5/5\n",
            "137/137 [==============================] - 3s 21ms/step - loss: 0.3470 - acc: 0.8564 - val_loss: 0.3431 - val_acc: 0.8553\n"
          ]
        }
      ]
    },
    {
      "cell_type": "code",
      "source": [
        "test_loss, test_acc = model.evaluate(input_test, y_test)\n",
        "print('Test Loss: {}'.format(test_loss))\n",
        "print('Test Accuracy: {}'.format(test_acc))"
      ],
      "metadata": {
        "colab": {
          "base_uri": "https://localhost:8080/"
        },
        "id": "aCPmhpSvPH6Z",
        "outputId": "e512b89b-428c-4135-ec87-b912502bddcf"
      },
      "execution_count": 7,
      "outputs": [
        {
          "output_type": "stream",
          "name": "stdout",
          "text": [
            "782/782 [==============================] - 7s 8ms/step - loss: 0.3372 - acc: 0.8560\n",
            "Test Loss: 0.3371529281139374\n",
            "Test Accuracy: 0.8560400009155273\n"
          ]
        }
      ]
    },
    {
      "cell_type": "markdown",
      "source": [
        "Двостороння LSTM"
      ],
      "metadata": {
        "id": "uKBl-1sOPQy2"
      }
    },
    {
      "cell_type": "code",
      "source": [
        "from tensorflow.keras.layers import Bidirectional\n",
        "\n",
        "\n",
        "model = Sequential()\n",
        "model.add(Embedding(max_features, 32))\n",
        "model.add(Bidirectional(LSTM(32)))\n",
        "model.add(Dense(1, activation='sigmoid'))\n",
        "model.compile(optimizer='rmsprop', loss='binary_crossentropy', metrics=['acc'])\n",
        "\n",
        "\n",
        "history = model.fit(input_train, y_train, epochs=5, batch_size=128, validation_split=0.3)"
      ],
      "metadata": {
        "colab": {
          "base_uri": "https://localhost:8080/"
        },
        "id": "miaifwFzPK_C",
        "outputId": "44968bb9-687c-4b6a-e00a-8896e331b2a8"
      },
      "execution_count": 8,
      "outputs": [
        {
          "output_type": "stream",
          "name": "stdout",
          "text": [
            "Epoch 1/5\n",
            "137/137 [==============================] - 11s 55ms/step - loss: 0.6427 - acc: 0.6209 - val_loss: 0.5115 - val_acc: 0.7883\n",
            "Epoch 2/5\n",
            "137/137 [==============================] - 5s 40ms/step - loss: 0.4499 - acc: 0.8022 - val_loss: 0.4022 - val_acc: 0.8245\n",
            "Epoch 3/5\n",
            "137/137 [==============================] - 6s 41ms/step - loss: 0.3796 - acc: 0.8369 - val_loss: 0.3619 - val_acc: 0.8453\n",
            "Epoch 4/5\n",
            "137/137 [==============================] - 5s 34ms/step - loss: 0.3518 - acc: 0.8519 - val_loss: 0.3421 - val_acc: 0.8588\n",
            "Epoch 5/5\n",
            "137/137 [==============================] - 5s 39ms/step - loss: 0.3351 - acc: 0.8601 - val_loss: 0.3293 - val_acc: 0.8599\n"
          ]
        }
      ]
    },
    {
      "cell_type": "code",
      "source": [
        "test_loss, test_acc = model.evaluate(input_test, y_test)\n",
        "print('Test Loss: {}'.format(test_loss))\n",
        "print('Test Accuracy: {}'.format(test_acc))"
      ],
      "metadata": {
        "colab": {
          "base_uri": "https://localhost:8080/"
        },
        "id": "PlYpxjwWPWJc",
        "outputId": "34a24932-1346-41de-a127-764da89762aa"
      },
      "execution_count": 9,
      "outputs": [
        {
          "output_type": "stream",
          "name": "stdout",
          "text": [
            "782/782 [==============================] - 11s 14ms/step - loss: 0.3211 - acc: 0.8635\n",
            "Test Loss: 0.3210799992084503\n",
            "Test Accuracy: 0.8634799718856812\n"
          ]
        }
      ]
    },
    {
      "cell_type": "markdown",
      "source": [
        "Глибока RNN"
      ],
      "metadata": {
        "id": "Cd7R2tuuPeQ3"
      }
    },
    {
      "cell_type": "code",
      "source": [
        "from tensorflow.keras.layers import SimpleRNN\n",
        "\n",
        "\n",
        "model = Sequential()\n",
        "model.add(Embedding(max_features, 32))\n",
        "model.add(SimpleRNN(32, return_sequences=True))\n",
        "model.add(SimpleRNN(32))\n",
        "model.add(Dense(1, activation='sigmoid'))\n",
        "model.compile(optimizer='rmsprop', loss='binary_crossentropy', metrics=['acc'])\n",
        "\n",
        "\n",
        "history = model.fit(input_train, y_train, epochs=5, batch_size=128, validation_split=0.3)\n",
        "\n",
        "\n",
        "test_loss, test_acc = model.evaluate(input_test, y_test)\n",
        "print('Test Loss: {}'.format(test_loss))\n",
        "print('Test Accuracy: {}'.format(test_acc))"
      ],
      "metadata": {
        "colab": {
          "base_uri": "https://localhost:8080/"
        },
        "id": "S7QJIrozPfD7",
        "outputId": "b16d3b46-661c-4882-b711-9c0bfd1361bd"
      },
      "execution_count": 10,
      "outputs": [
        {
          "output_type": "stream",
          "name": "stdout",
          "text": [
            "Epoch 1/5\n",
            "137/137 [==============================] - 125s 892ms/step - loss: 0.6872 - acc: 0.5515 - val_loss: 0.6372 - val_acc: 0.6395\n",
            "Epoch 2/5\n",
            "137/137 [==============================] - 120s 879ms/step - loss: 0.5178 - acc: 0.7509 - val_loss: 0.5633 - val_acc: 0.6991\n",
            "Epoch 3/5\n",
            "137/137 [==============================] - 118s 863ms/step - loss: 0.4243 - acc: 0.8118 - val_loss: 0.4906 - val_acc: 0.7745\n",
            "Epoch 4/5\n",
            "137/137 [==============================] - 119s 873ms/step - loss: 0.3752 - acc: 0.8403 - val_loss: 0.4114 - val_acc: 0.8268\n",
            "Epoch 5/5\n",
            "137/137 [==============================] - 120s 873ms/step - loss: 0.3336 - acc: 0.8601 - val_loss: 0.5142 - val_acc: 0.7643\n",
            "782/782 [==============================] - 60s 76ms/step - loss: 0.5020 - acc: 0.7694\n",
            "Test Loss: 0.5020012259483337\n",
            "Test Accuracy: 0.7693600058555603\n"
          ]
        }
      ]
    },
    {
      "cell_type": "markdown",
      "source": [
        "Глибока LSTM"
      ],
      "metadata": {
        "id": "tmLnSfh3PnEp"
      }
    },
    {
      "cell_type": "code",
      "source": [
        "model = Sequential()\n",
        "model.add(Embedding(max_features, 32))\n",
        "model.add(LSTM(32, return_sequences=True))\n",
        "model.add(LSTM(32))\n",
        "model.add(Dense(1, activation='sigmoid'))\n",
        "model.compile(optimizer='rmsprop', loss='binary_crossentropy', metrics=['acc'])\n",
        "\n",
        "\n",
        "history = model.fit(input_train, y_train, epochs=5, batch_size=128, validation_split=0.3)\n",
        "\n",
        "\n",
        "test_loss, test_acc = model.evaluate(input_test, y_test)\n",
        "print('Test Loss: {}'.format(test_loss))\n",
        "print('Test Accuracy: {}'.format(test_acc))"
      ],
      "metadata": {
        "colab": {
          "base_uri": "https://localhost:8080/"
        },
        "id": "58VwPyGLPrOV",
        "outputId": "231d6d36-a5ea-4407-a195-6a435ed5887f"
      },
      "execution_count": 11,
      "outputs": [
        {
          "output_type": "stream",
          "name": "stdout",
          "text": [
            "Epoch 1/5\n",
            "137/137 [==============================] - 11s 54ms/step - loss: 0.6271 - acc: 0.6202 - val_loss: 0.4851 - val_acc: 0.7689\n",
            "Epoch 2/5\n",
            "137/137 [==============================] - 5s 34ms/step - loss: 0.4340 - acc: 0.8078 - val_loss: 0.3735 - val_acc: 0.8417\n",
            "Epoch 3/5\n",
            "137/137 [==============================] - 5s 38ms/step - loss: 0.3753 - acc: 0.8419 - val_loss: 0.3474 - val_acc: 0.8521\n",
            "Epoch 4/5\n",
            "137/137 [==============================] - 5s 34ms/step - loss: 0.3559 - acc: 0.8491 - val_loss: 0.4038 - val_acc: 0.8309\n",
            "Epoch 5/5\n",
            "137/137 [==============================] - 5s 33ms/step - loss: 0.3412 - acc: 0.8577 - val_loss: 0.3444 - val_acc: 0.8545\n",
            "782/782 [==============================] - 11s 14ms/step - loss: 0.3348 - acc: 0.8592\n",
            "Test Loss: 0.3348132073879242\n",
            "Test Accuracy: 0.8592000007629395\n"
          ]
        }
      ]
    },
    {
      "cell_type": "markdown",
      "source": [
        "Глибока двостороння LSTM"
      ],
      "metadata": {
        "id": "36ttYYaxPviS"
      }
    },
    {
      "cell_type": "code",
      "source": [
        "model = Sequential()\n",
        "model.add(Embedding(max_features, 32))\n",
        "model.add(Bidirectional(LSTM(32, return_sequences=True)))\n",
        "model.add(Bidirectional(LSTM(32)))\n",
        "model.add(Dense(1, activation='sigmoid'))\n",
        "model.compile(optimizer='rmsprop', loss='binary_crossentropy', metrics=['acc'])\n",
        "\n",
        "\n",
        "history = model.fit(input_train, y_train, epochs=5, batch_size=128, validation_split=0.3)\n",
        "\n",
        "\n",
        "test_loss, test_acc = model.evaluate(input_test, y_test)\n",
        "print('Test Loss: {}'.format(test_loss))\n",
        "print('Test Accuracy: {}'.format(test_acc))"
      ],
      "metadata": {
        "colab": {
          "base_uri": "https://localhost:8080/"
        },
        "id": "5wWXnIWzPy9e",
        "outputId": "21c3d893-67e2-42d0-afd0-39467f99e8f7"
      },
      "execution_count": 12,
      "outputs": [
        {
          "output_type": "stream",
          "name": "stdout",
          "text": [
            "Epoch 1/5\n",
            "137/137 [==============================] - 19s 97ms/step - loss: 0.6460 - acc: 0.5955 - val_loss: 0.4850 - val_acc: 0.7837\n",
            "Epoch 2/5\n",
            "137/137 [==============================] - 10s 75ms/step - loss: 0.4426 - acc: 0.8015 - val_loss: 0.3661 - val_acc: 0.8460\n",
            "Epoch 3/5\n",
            "137/137 [==============================] - 10s 74ms/step - loss: 0.3737 - acc: 0.8414 - val_loss: 0.3503 - val_acc: 0.8531\n",
            "Epoch 4/5\n",
            "137/137 [==============================] - 9s 68ms/step - loss: 0.3545 - acc: 0.8513 - val_loss: 0.4384 - val_acc: 0.7944\n",
            "Epoch 5/5\n",
            "137/137 [==============================] - 9s 69ms/step - loss: 0.3325 - acc: 0.8630 - val_loss: 0.3419 - val_acc: 0.8609\n",
            "782/782 [==============================] - 19s 25ms/step - loss: 0.3328 - acc: 0.8641\n",
            "Test Loss: 0.33278563618659973\n",
            "Test Accuracy: 0.864080011844635\n"
          ]
        }
      ]
    }
  ]
}